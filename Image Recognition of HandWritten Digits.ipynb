{
 "cells": [
  {
   "cell_type": "markdown",
   "metadata": {},
   "source": [
    "##### Author: Vincent Yeo\n",
    "\n",
    "## Image Recognition with MNIST dataset\n",
    "\n",
    "#### Background:\n",
    "\n",
    "The MNIST database contains 70000 images of handwritten digits from 0 to 9, a subset of the [NIST](https://www.nist.gov/srd/nist-special-database-19) database, that has been preprocessed in normalising size and centering of the image.\n",
    "\n",
    "The authors have offer it to the world for machine learning and pattern recogrnition methods\n",
    "\n",
    "From LeCun, Y., Cortes, C. & Burges, C. J. C (n.d.). THE MNIST DATABASE of handwritten digits. Retrieved from http://yann.lecun.com/exdb/mnist/\n",
    "\n",
    "#### Task:\n",
    "+ Classify the digits correctly.\n"
   ]
  },
  {
   "cell_type": "code",
   "execution_count": 15,
   "metadata": {},
   "outputs": [],
   "source": [
    "from keras.datasets import mnist\n",
    "from keras.models import Sequential\n",
    "from keras.layers.core import Dense, Flatten\n",
    "from keras.layers.convolutional import Convolution2D, MaxPooling2D \n",
    "from keras.utils import np_utils\n",
    "\n",
    "import matplotlib.pyplot as plt     \n",
    "import matplotlib.cm as cm \n",
    "import numpy as np"
   ]
  },
  {
   "cell_type": "code",
   "execution_count": 16,
   "metadata": {},
   "outputs": [],
   "source": [
    "(X_train, y_train), (X_test, y_test) = mnist.load_data()"
   ]
  },
  {
   "cell_type": "markdown",
   "metadata": {},
   "source": [
    "#### Basic Image Processing and Visualization"
   ]
  },
  {
   "cell_type": "code",
   "execution_count": 17,
   "metadata": {},
   "outputs": [],
   "source": [
    "# To display original image and processed image\n",
    "def displayImage(image, image_filter):\n",
    "    im = X_train[image]\n",
    "    width = im.shape[0]\n",
    "    height = im.shape[1]\n",
    "    imC = np.zeros((width-2, height-2))\n",
    "    \n",
    "    for row in range(1, width-1):\n",
    "        for col in range(1, height-1):\n",
    "            for i in range(len(image_filter[0])):\n",
    "                for j in range(len(image_filter)):\n",
    "                    imC[row-1][col-1] += im[row-1+i][col-1+j] * image_filter[i][j]\n",
    "                \n",
    "            if imC[row-1][col-1] > 255:\n",
    "                imC[row-1][col-1] = 255\n",
    "            elif imC[row-1][col-1] < 0:\n",
    "                imC[row-1][col-1] = 0\n",
    "            \n",
    "    plt.imshow(im, cmap=cm.Greys_r)\n",
    "    plt.show()\n",
    "    plt.imshow(imC/255, cmap=cm.Greys_r)\n",
    "    plt.show()"
   ]
  },
  {
   "cell_type": "code",
   "execution_count": 18,
   "metadata": {},
   "outputs": [],
   "source": [
    "# filters\n",
    "blur = [\n",
    "        [1/10,1/10,1/10],\n",
    "        [1/10,1/10,1/10],\n",
    "        [1/10,1/10,1/10],\n",
    "]\n",
    "\n",
    "edges = [\n",
    "    [1, 1, 1],\n",
    "    [1, -9, 1],\n",
    "    [1, 1, 1]\n",
    "]"
   ]
  },
  {
   "cell_type": "code",
   "execution_count": 19,
   "metadata": {},
   "outputs": [
    {
     "data": {
      "image/png": "[encoded data removed]",
      "text/plain": [
       "<Figure size 432x288 with 1 Axes>"
      ]
     },
     "metadata": {
      "needs_background": "light"
     },
     "output_type": "display_data"
    },
    {
     "data": {
      "image/png": "[encoded data removed]",
      "text/plain": [
       "<Figure size 432x288 with 1 Axes>"
      ]
     },
     "metadata": {
      "needs_background": "light"
     },
     "output_type": "display_data"
    }
   ],
   "source": [
    "displayImage(3, blur)"
   ]
  },
  {
   "cell_type": "code",
   "execution_count": 20,
   "metadata": {},
   "outputs": [
    {
     "data": {
      "image/png": "[encoded data removed]",
      "text/plain": [
       "<Figure size 432x288 with 1 Axes>"
      ]
     },
     "metadata": {
      "needs_background": "light"
     },
     "output_type": "display_data"
    },
    {
     "data": {
      "image/png": "[encoded data removed]",
      "text/plain": [
       "<Figure size 432x288 with 1 Axes>"
      ]
     },
     "metadata": {
      "needs_background": "light"
     },
     "output_type": "display_data"
    }
   ],
   "source": [
    "displayImage(3, edges)"
   ]
  },
  {
   "cell_type": "code",
   "execution_count": 21,
   "metadata": {},
   "outputs": [
    {
     "name": "stdout",
     "output_type": "stream",
     "text": [
      "(60000, 28, 28)\n",
      "(10000, 28, 28)\n",
      "(60000,)\n",
      "(10000,)\n"
     ]
    }
   ],
   "source": [
    "# Size of the Training and Test set\n",
    "print(X_train.shape)\n",
    "print(X_test.shape)\n",
    "print(y_train.shape)\n",
    "print(y_test.shape)"
   ]
  },
  {
   "cell_type": "code",
   "execution_count": 22,
   "metadata": {},
   "outputs": [
    {
     "name": "stdout",
     "output_type": "stream",
     "text": [
      "(60000, 784)\n",
      "(10000, 784)\n"
     ]
    }
   ],
   "source": [
    "# convert 2d arrays into 1d\n",
    "X_train = X_train.reshape(60000, 784)     \n",
    "X_test = X_test.reshape(10000, 784)\n",
    "print(X_train.shape)\n",
    "print(X_test.shape)"
   ]
  },
  {
   "cell_type": "code",
   "execution_count": 23,
   "metadata": {},
   "outputs": [],
   "source": [
    "# 10 classes for digits 0 to 9\n",
    "classes = 10\n",
    "Y_train = np_utils.to_categorical(y_train, classes)     \n",
    "Y_test = np_utils.to_categorical(y_test, classes)"
   ]
  },
  {
   "cell_type": "code",
   "execution_count": 24,
   "metadata": {},
   "outputs": [
    {
     "name": "stdout",
     "output_type": "stream",
     "text": [
      "WARNING:tensorflow:From /anaconda3/envs/data_science/lib/python3.7/site-packages/keras/backend/tensorflow_backend.py:74: The name tf.get_default_graph is deprecated. Please use tf.compat.v1.get_default_graph instead.\n",
      "\n",
      "WARNING:tensorflow:From /anaconda3/envs/data_science/lib/python3.7/site-packages/keras/backend/tensorflow_backend.py:517: The name tf.placeholder is deprecated. Please use tf.compat.v1.placeholder instead.\n",
      "\n",
      "WARNING:tensorflow:From /anaconda3/envs/data_science/lib/python3.7/site-packages/keras/backend/tensorflow_backend.py:4138: The name tf.random_uniform is deprecated. Please use tf.random.uniform instead.\n",
      "\n",
      "WARNING:tensorflow:From /anaconda3/envs/data_science/lib/python3.7/site-packages/keras/optimizers.py:790: The name tf.train.Optimizer is deprecated. Please use tf.compat.v1.train.Optimizer instead.\n",
      "\n",
      "WARNING:tensorflow:From /anaconda3/envs/data_science/lib/python3.7/site-packages/keras/backend/tensorflow_backend.py:3295: The name tf.log is deprecated. Please use tf.math.log instead.\n",
      "\n",
      "WARNING:tensorflow:From /anaconda3/envs/data_science/lib/python3.7/site-packages/tensorflow_core/python/ops/math_grad.py:1424: where (from tensorflow.python.ops.array_ops) is deprecated and will be removed in a future version.\n",
      "Instructions for updating:\n",
      "Use tf.where in 2.0, which has the same broadcast rule as np.where\n",
      "WARNING:tensorflow:From /anaconda3/envs/data_science/lib/python3.7/site-packages/keras/backend/tensorflow_backend.py:986: The name tf.assign_add is deprecated. Please use tf.compat.v1.assign_add instead.\n",
      "\n",
      "WARNING:tensorflow:From /anaconda3/envs/data_science/lib/python3.7/site-packages/keras/backend/tensorflow_backend.py:973: The name tf.assign is deprecated. Please use tf.compat.v1.assign instead.\n",
      "\n",
      "WARNING:tensorflow:From /anaconda3/envs/data_science/lib/python3.7/site-packages/keras/backend/tensorflow_backend.py:2741: The name tf.Session is deprecated. Please use tf.compat.v1.Session instead.\n",
      "\n",
      "Train on 60000 samples, validate on 10000 samples\n",
      "Epoch 1/100\n",
      "WARNING:tensorflow:From /anaconda3/envs/data_science/lib/python3.7/site-packages/keras/backend/tensorflow_backend.py:174: The name tf.get_default_session is deprecated. Please use tf.compat.v1.get_default_session instead.\n",
      "\n",
      "WARNING:tensorflow:From /anaconda3/envs/data_science/lib/python3.7/site-packages/keras/backend/tensorflow_backend.py:181: The name tf.ConfigProto is deprecated. Please use tf.compat.v1.ConfigProto instead.\n",
      "\n",
      "WARNING:tensorflow:From /anaconda3/envs/data_science/lib/python3.7/site-packages/keras/backend/tensorflow_backend.py:190: The name tf.global_variables is deprecated. Please use tf.compat.v1.global_variables instead.\n",
      "\n",
      "WARNING:tensorflow:From /anaconda3/envs/data_science/lib/python3.7/site-packages/keras/backend/tensorflow_backend.py:199: The name tf.is_variable_initialized is deprecated. Please use tf.compat.v1.is_variable_initialized instead.\n",
      "\n",
      "WARNING:tensorflow:From /anaconda3/envs/data_science/lib/python3.7/site-packages/keras/backend/tensorflow_backend.py:206: The name tf.variables_initializer is deprecated. Please use tf.compat.v1.variables_initializer instead.\n",
      "\n",
      "60000/60000 [==============================] - 6s 100us/step - loss: 1.9327 - acc: 0.5853 - val_loss: 1.5630 - val_acc: 0.7561\n",
      "Epoch 2/100\n",
      "60000/60000 [==============================] - 5s 79us/step - loss: 1.2708 - acc: 0.8010 - val_loss: 1.0066 - val_acc: 0.8394\n",
      "Epoch 3/100\n",
      "60000/60000 [==============================] - 5s 82us/step - loss: 0.8535 - acc: 0.8536 - val_loss: 0.7096 - val_acc: 0.8751\n",
      "Epoch 4/100\n",
      "60000/60000 [==============================] - 5s 86us/step - loss: 0.6339 - acc: 0.8781 - val_loss: 0.5538 - val_acc: 0.8903\n",
      "Epoch 5/100\n",
      "60000/60000 [==============================] - 5s 88us/step - loss: 0.5155 - acc: 0.8916 - val_loss: 0.4621 - val_acc: 0.8978\n",
      "Epoch 6/100\n",
      "60000/60000 [==============================] - 8s 133us/step - loss: 0.4439 - acc: 0.8996 - val_loss: 0.4112 - val_acc: 0.9043\n",
      "Epoch 7/100\n",
      "60000/60000 [==============================] - 7s 109us/step - loss: 0.3964 - acc: 0.9059 - val_loss: 0.3760 - val_acc: 0.9074\n",
      "Epoch 8/100\n",
      "60000/60000 [==============================] - 5s 88us/step - loss: 0.3634 - acc: 0.9108 - val_loss: 0.3480 - val_acc: 0.9137\n",
      "Epoch 9/100\n",
      "60000/60000 [==============================] - 5s 88us/step - loss: 0.3385 - acc: 0.9143 - val_loss: 0.3232 - val_acc: 0.9176\n",
      "Epoch 10/100\n",
      "60000/60000 [==============================] - 6s 105us/step - loss: 0.3192 - acc: 0.9174 - val_loss: 0.3103 - val_acc: 0.9180\n",
      "Epoch 11/100\n",
      "60000/60000 [==============================] - 5s 87us/step - loss: 0.3033 - acc: 0.9215 - val_loss: 0.2978 - val_acc: 0.9225\n",
      "Epoch 12/100\n",
      "60000/60000 [==============================] - 7s 115us/step - loss: 0.2889 - acc: 0.9243 - val_loss: 0.2830 - val_acc: 0.9257\n",
      "Epoch 13/100\n",
      "60000/60000 [==============================] - 7s 125us/step - loss: 0.2774 - acc: 0.9260 - val_loss: 0.2741 - val_acc: 0.9256\n",
      "Epoch 14/100\n",
      "60000/60000 [==============================] - 11s 190us/step - loss: 0.2688 - acc: 0.9280 - val_loss: 0.2681 - val_acc: 0.9291\n",
      "Epoch 15/100\n",
      "60000/60000 [==============================] - 8s 130us/step - loss: 0.2583 - acc: 0.9314 - val_loss: 0.2536 - val_acc: 0.9307\n",
      "Epoch 16/100\n",
      "60000/60000 [==============================] - 5s 90us/step - loss: 0.2493 - acc: 0.9331 - val_loss: 0.2484 - val_acc: 0.9322\n",
      "Epoch 17/100\n",
      "60000/60000 [==============================] - 5s 89us/step - loss: 0.2406 - acc: 0.9342 - val_loss: 0.2449 - val_acc: 0.9321\n",
      "Epoch 18/100\n",
      "60000/60000 [==============================] - 5s 84us/step - loss: 0.2345 - acc: 0.9369 - val_loss: 0.2400 - val_acc: 0.9338\n",
      "Epoch 19/100\n",
      "60000/60000 [==============================] - 5s 85us/step - loss: 0.2270 - acc: 0.9382 - val_loss: 0.2373 - val_acc: 0.9341\n",
      "Epoch 20/100\n",
      "60000/60000 [==============================] - 5s 84us/step - loss: 0.2228 - acc: 0.9399 - val_loss: 0.2297 - val_acc: 0.9356\n",
      "Epoch 21/100\n",
      "60000/60000 [==============================] - 5s 91us/step - loss: 0.2175 - acc: 0.9413 - val_loss: 0.2208 - val_acc: 0.9390\n",
      "Epoch 22/100\n",
      "60000/60000 [==============================] - 5s 87us/step - loss: 0.2117 - acc: 0.9419 - val_loss: 0.2218 - val_acc: 0.9374\n",
      "Epoch 23/100\n",
      "60000/60000 [==============================] - 5s 90us/step - loss: 0.2070 - acc: 0.9430 - val_loss: 0.2148 - val_acc: 0.9395\n",
      "Epoch 24/100\n",
      "60000/60000 [==============================] - 6s 103us/step - loss: 0.2021 - acc: 0.9442 - val_loss: 0.2133 - val_acc: 0.9406\n",
      "Epoch 25/100\n",
      "60000/60000 [==============================] - 6s 101us/step - loss: 0.1954 - acc: 0.9472 - val_loss: 0.2106 - val_acc: 0.9412\n",
      "Epoch 26/100\n",
      "60000/60000 [==============================] - 6s 95us/step - loss: 0.1930 - acc: 0.9473 - val_loss: 0.2045 - val_acc: 0.9424\n",
      "Epoch 27/100\n",
      "60000/60000 [==============================] - 5s 86us/step - loss: 0.1889 - acc: 0.9487 - val_loss: 0.2011 - val_acc: 0.9442\n",
      "Epoch 28/100\n",
      "60000/60000 [==============================] - 5s 88us/step - loss: 0.1827 - acc: 0.9496 - val_loss: 0.2004 - val_acc: 0.9445\n",
      "Epoch 29/100\n",
      "60000/60000 [==============================] - 5s 89us/step - loss: 0.1823 - acc: 0.9506 - val_loss: 0.1974 - val_acc: 0.9447\n",
      "Epoch 30/100\n",
      "60000/60000 [==============================] - 5s 91us/step - loss: 0.1788 - acc: 0.9507 - val_loss: 0.1965 - val_acc: 0.9449\n",
      "Epoch 31/100\n",
      "60000/60000 [==============================] - 5s 90us/step - loss: 0.1749 - acc: 0.9518 - val_loss: 0.1929 - val_acc: 0.9456\n",
      "Epoch 32/100\n",
      "60000/60000 [==============================] - 5s 86us/step - loss: 0.1714 - acc: 0.9533 - val_loss: 0.1878 - val_acc: 0.9478\n",
      "Epoch 33/100\n",
      "60000/60000 [==============================] - 6s 93us/step - loss: 0.1704 - acc: 0.9533 - val_loss: 0.1919 - val_acc: 0.9467\n",
      "Epoch 34/100\n",
      "60000/60000 [==============================] - 5s 87us/step - loss: 0.1685 - acc: 0.9533 - val_loss: 0.1874 - val_acc: 0.9477\n",
      "Epoch 35/100\n",
      "60000/60000 [==============================] - 6s 105us/step - loss: 0.1625 - acc: 0.9551 - val_loss: 0.1800 - val_acc: 0.9470\n",
      "Epoch 36/100\n",
      "60000/60000 [==============================] - 5s 87us/step - loss: 0.1616 - acc: 0.9555 - val_loss: 0.1797 - val_acc: 0.9476\n",
      "Epoch 37/100\n"
     ]
    },
    {
     "name": "stdout",
     "output_type": "stream",
     "text": [
      "60000/60000 [==============================] - 5s 84us/step - loss: 0.1588 - acc: 0.9561 - val_loss: 0.1779 - val_acc: 0.9487\n",
      "Epoch 38/100\n",
      "60000/60000 [==============================] - 5s 91us/step - loss: 0.1566 - acc: 0.9558 - val_loss: 0.1807 - val_acc: 0.9483\n",
      "Epoch 39/100\n",
      "60000/60000 [==============================] - 5s 87us/step - loss: 0.1515 - acc: 0.9572 - val_loss: 0.1757 - val_acc: 0.9499\n",
      "Epoch 40/100\n",
      "60000/60000 [==============================] - 5s 91us/step - loss: 0.1517 - acc: 0.9575 - val_loss: 0.1731 - val_acc: 0.9496\n",
      "Epoch 41/100\n",
      "60000/60000 [==============================] - 5s 91us/step - loss: 0.1497 - acc: 0.9578 - val_loss: 0.1735 - val_acc: 0.9488\n",
      "Epoch 42/100\n",
      "60000/60000 [==============================] - 5s 90us/step - loss: 0.1456 - acc: 0.9589 - val_loss: 0.1694 - val_acc: 0.9512\n",
      "Epoch 43/100\n",
      "60000/60000 [==============================] - 5s 88us/step - loss: 0.1468 - acc: 0.9593 - val_loss: 0.1730 - val_acc: 0.9519\n",
      "Epoch 44/100\n",
      "60000/60000 [==============================] - 5s 89us/step - loss: 0.1441 - acc: 0.9600 - val_loss: 0.1696 - val_acc: 0.9521\n",
      "Epoch 45/100\n",
      "60000/60000 [==============================] - 5s 85us/step - loss: 0.1403 - acc: 0.9607 - val_loss: 0.1648 - val_acc: 0.9500\n",
      "Epoch 46/100\n",
      "60000/60000 [==============================] - 5s 87us/step - loss: 0.1390 - acc: 0.9613 - val_loss: 0.1668 - val_acc: 0.9508\n",
      "Epoch 47/100\n",
      "60000/60000 [==============================] - 5s 86us/step - loss: 0.1374 - acc: 0.9623 - val_loss: 0.1633 - val_acc: 0.9537\n",
      "Epoch 48/100\n",
      "60000/60000 [==============================] - 5s 90us/step - loss: 0.1351 - acc: 0.9629 - val_loss: 0.1565 - val_acc: 0.9525\n",
      "Epoch 49/100\n",
      "60000/60000 [==============================] - 5s 82us/step - loss: 0.1318 - acc: 0.9640 - val_loss: 0.1610 - val_acc: 0.9529\n",
      "Epoch 50/100\n",
      "60000/60000 [==============================] - 5s 81us/step - loss: 0.1285 - acc: 0.9646 - val_loss: 0.1563 - val_acc: 0.9539\n",
      "Epoch 51/100\n",
      "60000/60000 [==============================] - 5s 82us/step - loss: 0.1299 - acc: 0.9637 - val_loss: 0.1553 - val_acc: 0.9548\n",
      "Epoch 52/100\n",
      "60000/60000 [==============================] - 5s 86us/step - loss: 0.1283 - acc: 0.9644 - val_loss: 0.1556 - val_acc: 0.9547\n",
      "Epoch 53/100\n",
      "60000/60000 [==============================] - 5s 82us/step - loss: 0.1238 - acc: 0.9660 - val_loss: 0.1556 - val_acc: 0.9536\n",
      "Epoch 54/100\n",
      "60000/60000 [==============================] - 6s 106us/step - loss: 0.1229 - acc: 0.9658 - val_loss: 0.1541 - val_acc: 0.9550\n",
      "Epoch 55/100\n",
      "60000/60000 [==============================] - 5s 91us/step - loss: 0.1234 - acc: 0.9655 - val_loss: 0.1502 - val_acc: 0.9550\n",
      "Epoch 56/100\n",
      "60000/60000 [==============================] - 5s 83us/step - loss: 0.1222 - acc: 0.9661 - val_loss: 0.1514 - val_acc: 0.9560\n",
      "Epoch 57/100\n",
      "60000/60000 [==============================] - 6s 92us/step - loss: 0.1205 - acc: 0.9667 - val_loss: 0.1468 - val_acc: 0.9565\n",
      "Epoch 58/100\n",
      "60000/60000 [==============================] - 5s 84us/step - loss: 0.1179 - acc: 0.9668 - val_loss: 0.1514 - val_acc: 0.9541\n",
      "Epoch 59/100\n",
      "60000/60000 [==============================] - 5s 85us/step - loss: 0.1185 - acc: 0.9668 - val_loss: 0.1472 - val_acc: 0.9563\n",
      "Epoch 60/100\n",
      "60000/60000 [==============================] - 5s 88us/step - loss: 0.1160 - acc: 0.9677 - val_loss: 0.1508 - val_acc: 0.9552\n",
      "Epoch 61/100\n",
      "60000/60000 [==============================] - 5s 86us/step - loss: 0.1184 - acc: 0.9670 - val_loss: 0.1449 - val_acc: 0.9585\n",
      "Epoch 62/100\n",
      "60000/60000 [==============================] - 5s 84us/step - loss: 0.1105 - acc: 0.9694 - val_loss: 0.1457 - val_acc: 0.9560\n",
      "Epoch 63/100\n",
      "60000/60000 [==============================] - 5s 87us/step - loss: 0.1128 - acc: 0.9687 - val_loss: 0.1488 - val_acc: 0.9556\n",
      "Epoch 64/100\n",
      "60000/60000 [==============================] - 5s 89us/step - loss: 0.1115 - acc: 0.9681 - val_loss: 0.1426 - val_acc: 0.9556\n",
      "Epoch 65/100\n",
      "60000/60000 [==============================] - 5s 86us/step - loss: 0.1088 - acc: 0.9697 - val_loss: 0.1398 - val_acc: 0.9586\n",
      "Epoch 66/100\n",
      "60000/60000 [==============================] - 5s 85us/step - loss: 0.1092 - acc: 0.9693 - val_loss: 0.1447 - val_acc: 0.9565\n",
      "Epoch 67/100\n",
      "60000/60000 [==============================] - 5s 90us/step - loss: 0.1092 - acc: 0.9693 - val_loss: 0.1427 - val_acc: 0.9568\n",
      "Epoch 68/100\n",
      "60000/60000 [==============================] - 5s 83us/step - loss: 0.1090 - acc: 0.9694 - val_loss: 0.1402 - val_acc: 0.9585\n",
      "Epoch 69/100\n",
      "60000/60000 [==============================] - 5s 89us/step - loss: 0.1066 - acc: 0.9698 - val_loss: 0.1429 - val_acc: 0.9587\n",
      "Epoch 70/100\n",
      "60000/60000 [==============================] - 5s 84us/step - loss: 0.1038 - acc: 0.9707 - val_loss: 0.1394 - val_acc: 0.9582\n",
      "Epoch 71/100\n",
      "60000/60000 [==============================] - 5s 85us/step - loss: 0.1036 - acc: 0.9710 - val_loss: 0.1408 - val_acc: 0.9564\n",
      "Epoch 72/100\n",
      "60000/60000 [==============================] - 5s 83us/step - loss: 0.1023 - acc: 0.9717 - val_loss: 0.1385 - val_acc: 0.9586\n",
      "Epoch 73/100\n",
      "60000/60000 [==============================] - 5s 91us/step - loss: 0.1011 - acc: 0.9719 - val_loss: 0.1378 - val_acc: 0.9582\n",
      "Epoch 74/100\n",
      "60000/60000 [==============================] - 5s 85us/step - loss: 0.0995 - acc: 0.9720 - val_loss: 0.1360 - val_acc: 0.9581\n",
      "Epoch 75/100\n",
      "60000/60000 [==============================] - 5s 90us/step - loss: 0.0978 - acc: 0.9728 - val_loss: 0.1382 - val_acc: 0.9583\n",
      "Epoch 76/100\n",
      "60000/60000 [==============================] - 5s 84us/step - loss: 0.1004 - acc: 0.9722 - val_loss: 0.1376 - val_acc: 0.9595\n",
      "Epoch 77/100\n",
      "60000/60000 [==============================] - 5s 88us/step - loss: 0.0983 - acc: 0.9731 - val_loss: 0.1328 - val_acc: 0.9602\n",
      "Epoch 78/100\n",
      "60000/60000 [==============================] - 5s 86us/step - loss: 0.0951 - acc: 0.9737 - val_loss: 0.1343 - val_acc: 0.9587\n",
      "Epoch 79/100\n",
      "60000/60000 [==============================] - 5s 89us/step - loss: 0.0965 - acc: 0.9728 - val_loss: 0.1370 - val_acc: 0.9598\n",
      "Epoch 80/100\n",
      "60000/60000 [==============================] - 8s 137us/step - loss: 0.0972 - acc: 0.9726 - val_loss: 0.1322 - val_acc: 0.9598\n",
      "Epoch 81/100\n",
      "60000/60000 [==============================] - 7s 116us/step - loss: 0.0956 - acc: 0.9736 - val_loss: 0.1315 - val_acc: 0.9613\n",
      "Epoch 82/100\n",
      "60000/60000 [==============================] - 5s 83us/step - loss: 0.0903 - acc: 0.9753 - val_loss: 0.1313 - val_acc: 0.9609\n",
      "Epoch 83/100\n",
      "60000/60000 [==============================] - 6s 108us/step - loss: 0.0915 - acc: 0.9742 - val_loss: 0.1306 - val_acc: 0.9609\n",
      "Epoch 84/100\n",
      "60000/60000 [==============================] - 6s 102us/step - loss: 0.0909 - acc: 0.9749 - val_loss: 0.1341 - val_acc: 0.9597\n",
      "Epoch 85/100\n",
      "60000/60000 [==============================] - 5s 90us/step - loss: 0.0895 - acc: 0.9748 - val_loss: 0.1296 - val_acc: 0.9591\n",
      "Epoch 86/100\n",
      "60000/60000 [==============================] - 5s 91us/step - loss: 0.0888 - acc: 0.9753 - val_loss: 0.1338 - val_acc: 0.9594\n",
      "Epoch 87/100\n",
      "60000/60000 [==============================] - 5s 83us/step - loss: 0.0881 - acc: 0.9756 - val_loss: 0.1288 - val_acc: 0.9607\n",
      "Epoch 88/100\n",
      "60000/60000 [==============================] - 5s 85us/step - loss: 0.0857 - acc: 0.9761 - val_loss: 0.1283 - val_acc: 0.9602\n",
      "Epoch 89/100\n",
      "60000/60000 [==============================] - 6s 102us/step - loss: 0.0851 - acc: 0.9766 - val_loss: 0.1302 - val_acc: 0.9595\n",
      "Epoch 90/100\n",
      "60000/60000 [==============================] - 7s 115us/step - loss: 0.0838 - acc: 0.9767 - val_loss: 0.1297 - val_acc: 0.9596\n",
      "Epoch 91/100\n",
      "60000/60000 [==============================] - 5s 83us/step - loss: 0.0847 - acc: 0.9765 - val_loss: 0.1240 - val_acc: 0.9622\n",
      "Epoch 92/100\n",
      "60000/60000 [==============================] - 5s 85us/step - loss: 0.0853 - acc: 0.9760 - val_loss: 0.1282 - val_acc: 0.9582\n",
      "Epoch 93/100\n",
      "60000/60000 [==============================] - 5s 80us/step - loss: 0.0835 - acc: 0.9773 - val_loss: 0.1265 - val_acc: 0.9612\n",
      "Epoch 94/100\n",
      "60000/60000 [==============================] - 8s 127us/step - loss: 0.0822 - acc: 0.9774 - val_loss: 0.1273 - val_acc: 0.9606\n",
      "Epoch 95/100\n",
      "60000/60000 [==============================] - 5s 85us/step - loss: 0.0813 - acc: 0.9770 - val_loss: 0.1282 - val_acc: 0.9599\n"
     ]
    },
    {
     "name": "stdout",
     "output_type": "stream",
     "text": [
      "Epoch 96/100\n",
      "60000/60000 [==============================] - 6s 101us/step - loss: 0.0810 - acc: 0.9772 - val_loss: 0.1244 - val_acc: 0.9620\n",
      "10000/10000 [==============================] - 1s 71us/step\n",
      "Test accuracy: 0.962\n"
     ]
    }
   ],
   "source": [
    "# Import early stopping from keras callbacks\n",
    "from keras.callbacks import EarlyStopping\n",
    "# Instantiate an early stopping callback\n",
    "early_stopping = EarlyStopping(monitor='val_loss', patience=5)\n",
    "\n",
    "epochs = 100\n",
    "batch_size = 100\n",
    "\n",
    "model = Sequential()     \n",
    "model.add(Dense(100, input_shape=(784, ), activation='sigmoid'))     \n",
    "\n",
    "# Hidden layers\n",
    "model.add(Dense(100, activation='sigmoid'))\n",
    "\n",
    "# Output Layers\n",
    "model.add(Dense(10, activation='softmax')) \n",
    "\n",
    "model.compile(loss='categorical_crossentropy', metrics=['accuracy'], optimizer='sgd')\n",
    "\n",
    "history = model.fit(X_train, Y_train, batch_size=batch_size, validation_data=(X_test, Y_test), epochs=epochs, verbose=1, callbacks = [early_stopping])\n",
    "\n",
    "score = model.evaluate(X_test, Y_test, verbose=1)\n",
    "print('Test accuracy:', score[1]) "
   ]
  },
  {
   "cell_type": "markdown",
   "metadata": {},
   "source": [
    "The model achieved a 96.2% accuracy in classifying the handwritten digits"
   ]
  },
  {
   "cell_type": "code",
   "execution_count": 25,
   "metadata": {},
   "outputs": [
    {
     "data": {
      "image/png": "[encoded data removed]",
      "text/plain": [
       "<Figure size 432x288 with 1 Axes>"
      ]
     },
     "metadata": {
      "needs_background": "light"
     },
     "output_type": "display_data"
    }
   ],
   "source": [
    "# Plot train vs test accuracy per epoch\n",
    "plt.figure()\n",
    "\n",
    "plt.plot(history.history['acc'])\n",
    "plt.plot(history.history['val_acc'])\n",
    "\n",
    "plt.title('Model accuracy')\n",
    "plt.ylabel('Accuracy')\n",
    "plt.xlabel('Epoch')\n",
    "plt.legend(['Train', 'Test'])\n",
    "plt.show()"
   ]
  },
  {
   "cell_type": "markdown",
   "metadata": {},
   "source": [
    "The model accuracy increase sharply within 20 epoches to 90%."
   ]
  },
  {
   "cell_type": "code",
   "execution_count": 26,
   "metadata": {},
   "outputs": [
    {
     "name": "stdout",
     "output_type": "stream",
     "text": [
      "_________________________________________________________________\n",
      "Layer (type)                 Output Shape              Param #   \n",
      "=================================================================\n",
      "dense_1 (Dense)              (None, 100)               78500     \n",
      "_________________________________________________________________\n",
      "dense_2 (Dense)              (None, 100)               10100     \n",
      "_________________________________________________________________\n",
      "dense_3 (Dense)              (None, 10)                1010      \n",
      "=================================================================\n",
      "Total params: 89,610\n",
      "Trainable params: 89,610\n",
      "Non-trainable params: 0\n",
      "_________________________________________________________________\n"
     ]
    }
   ],
   "source": [
    "model.summary()"
   ]
  },
  {
   "cell_type": "markdown",
   "metadata": {},
   "source": [
    "#### Results and Analysis:\n",
    "The CNN has achieved a 96.2% test accuracy."
   ]
  }
 ],
 "metadata": {
  "kernelspec": {
   "display_name": "Python 3",
   "language": "python",
   "name": "python3"
  },
  "language_info": {
   "codemirror_mode": {
    "name": "ipython",
    "version": 3
   },
   "file_extension": ".py",
   "mimetype": "text/x-python",
   "name": "python",
   "nbconvert_exporter": "python",
   "pygments_lexer": "ipython3",
   "version": "3.7.5"
  }
 },
 "nbformat": 4,
 "nbformat_minor": 2
}
