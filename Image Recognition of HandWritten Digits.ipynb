{
 "cells": [
  {
   "cell_type": "markdown",
   "metadata": {},
   "source": [
    "##### Author: Vincent Yeo\n",
    "\n",
    "## Image Recognition with MNIST dataset\n",
    "\n",
    "#### Background:\n",
    "\n",
    "Handwritten documents are commonly used especially in forms handled by organizations like government agencies or banks etc with individuals. Despite increasing usage of digital platforms that handles online form submission, handwritten form are still a popular means of submission and more can be done to automate the process of form handling and digitalize such documents. One way is by enabling machines to identify chracters and numbers from such documents. This is of course challenging given the unique handwritting of each individuals. Thus the use of neural networks is necessary.\n",
    "\n",
    "#### Dataset\n",
    "\n",
    "The MNIST database contains 70000 images of handwritten digits from 0 to 9, a subset of the [NIST](https://www.nist.gov/srd/nist-special-database-19) database, that has been preprocessed in normalising size and centering of the image.\n",
    "\n",
    "The authors have offer it to the world for machine learning and pattern recogrnition methods\n",
    "\n",
    "From LeCun, Y., Cortes, C. & Burges, C. J. C (n.d.). THE MNIST DATABASE of handwritten digits. Retrieved from http://yann.lecun.com/exdb/mnist/\n",
    "\n",
    "#### Task:\n",
    "+ Classify the handwritten digits correctly.\n"
   ]
  },
  {
   "cell_type": "code",
   "execution_count": 19,
   "metadata": {},
   "outputs": [],
   "source": [
    "from keras.datasets import mnist\n",
    "from keras.models import Sequential\n",
    "from keras.layers.core import Dense, Flatten\n",
    "from keras.layers.convolutional import Convolution2D, MaxPooling2D \n",
    "from keras.utils import np_utils\n",
    "\n",
    "import matplotlib.pyplot as plt     \n",
    "import matplotlib.cm as cm \n",
    "import numpy as np\n",
    "import pandas as pd\n",
    "import matplotlib.pyplot as plt\n",
    "import seaborn as sns"
   ]
  },
  {
   "cell_type": "code",
   "execution_count": 6,
   "metadata": {},
   "outputs": [],
   "source": [
    "(X_train, y_train), (X_test, y_test) = mnist.load_data()"
   ]
  },
  {
   "cell_type": "code",
   "execution_count": 20,
   "metadata": {},
   "outputs": [],
   "source": [
    "# Explore the distribution of the train set\n",
    "y_train_df = pd.DataFrame(y_train, columns=['label'])\n",
    "graph_train = y_train_df['label'].value_counts()/len(y_train_df) * 100"
   ]
  },
  {
   "cell_type": "code",
   "execution_count": 25,
   "metadata": {},
   "outputs": [
    {
     "data": {
      "text/plain": [
       "<matplotlib.axes._subplots.AxesSubplot at 0x1c4d066ad0>"
      ]
     },
     "execution_count": 25,
     "metadata": {},
     "output_type": "execute_result"
    },
    {
     "data": {
      "image/png": "[encoded data removed]",
      "text/plain": [
       "<Figure size 432x288 with 1 Axes>"
      ]
     },
     "metadata": {
      "needs_background": "light"
     },
     "output_type": "display_data"
    }
   ],
   "source": [
    "graph_train.plot(kind='bar')\n",
    "# Almost uniform distribution of handwritten digits"
   ]
  },
  {
   "cell_type": "code",
   "execution_count": 32,
   "metadata": {},
   "outputs": [
    {
     "data": {
      "text/plain": [
       "<matplotlib.axes._subplots.AxesSubplot at 0x1c4d0f3ed0>"
      ]
     },
     "execution_count": 32,
     "metadata": {},
     "output_type": "execute_result"
    },
    {
     "data": {
      "image/png": "[encoded data removed]",
      "text/plain": [
       "<Figure size 432x288 with 1 Axes>"
      ]
     },
     "metadata": {
      "needs_background": "light"
     },
     "output_type": "display_data"
    }
   ],
   "source": [
    "# Explore the distribution of the train set\n",
    "y_test_df = pd.DataFrame(y_test, columns=['label'])\n",
    "graph_test = y_test_df['label'].value_counts()/len(y_test_df) * 100\n",
    "graph_test.plot(kind='bar')\n",
    "\n",
    "# Test set has almost a uniform distribution"
   ]
  },
  {
   "cell_type": "markdown",
   "metadata": {},
   "source": [
    "#### Basic Image Processing and Visualization"
   ]
  },
  {
   "cell_type": "code",
   "execution_count": 29,
   "metadata": {},
   "outputs": [],
   "source": [
    "# To display original image and processed image\n",
    "def displayImage(image, image_filter):\n",
    "    im = X_train[image]\n",
    "    width = im.shape[0]\n",
    "    height = im.shape[1]\n",
    "    imC = np.zeros((width-2, height-2))\n",
    "    \n",
    "    for row in range(1, width-1):\n",
    "        for col in range(1, height-1):\n",
    "            for i in range(len(image_filter[0])):\n",
    "                for j in range(len(image_filter)):\n",
    "                    imC[row-1][col-1] += im[row-1+i][col-1+j] * image_filter[i][j]\n",
    "                \n",
    "            if imC[row-1][col-1] > 255:\n",
    "                imC[row-1][col-1] = 255\n",
    "            elif imC[row-1][col-1] < 0:\n",
    "                imC[row-1][col-1] = 0\n",
    "            \n",
    "    plt.imshow(im, cmap=cm.Greys_r)\n",
    "    plt.show()\n",
    "    plt.imshow(imC/255, cmap=cm.Greys_r)\n",
    "    plt.show()"
   ]
  },
  {
   "cell_type": "code",
   "execution_count": 30,
   "metadata": {},
   "outputs": [],
   "source": [
    "# filters\n",
    "blur = [\n",
    "        [1/10,1/10,1/10],\n",
    "        [1/10,1/10,1/10],\n",
    "        [1/10,1/10,1/10],\n",
    "]\n",
    "\n",
    "edges = [\n",
    "    [1, 1, 1],\n",
    "    [1, -9, 1],\n",
    "    [1, 1, 1]\n",
    "]"
   ]
  },
  {
   "cell_type": "code",
   "execution_count": 31,
   "metadata": {},
   "outputs": [
    {
     "data": {
      "image/png": "[encoded data removed]",
      "text/plain": [
       "<Figure size 432x288 with 1 Axes>"
      ]
     },
     "metadata": {
      "needs_background": "light"
     },
     "output_type": "display_data"
    },
    {
     "data": {
      "image/png": "[encoded data removed]",
      "text/plain": [
       "<Figure size 432x288 with 1 Axes>"
      ]
     },
     "metadata": {
      "needs_background": "light"
     },
     "output_type": "display_data"
    }
   ],
   "source": [
    "displayImage(3, blur)"
   ]
  },
  {
   "cell_type": "code",
   "execution_count": 32,
   "metadata": {},
   "outputs": [
    {
     "data": {
      "image/png": "[encoded data removed]",
      "text/plain": [
       "<Figure size 432x288 with 1 Axes>"
      ]
     },
     "metadata": {
      "needs_background": "light"
     },
     "output_type": "display_data"
    },
    {
     "data": {
      "image/png": "[encoded data removed]",
      "text/plain": [
       "<Figure size 432x288 with 1 Axes>"
      ]
     },
     "metadata": {
      "needs_background": "light"
     },
     "output_type": "display_data"
    }
   ],
   "source": [
    "displayImage(3, edges)"
   ]
  },
  {
   "cell_type": "code",
   "execution_count": 3,
   "metadata": {},
   "outputs": [
    {
     "name": "stdout",
     "output_type": "stream",
     "text": [
      "(60000, 28, 28)\n",
      "(10000, 28, 28)\n",
      "(60000,)\n",
      "(10000,)\n"
     ]
    }
   ],
   "source": [
    "# Size of the Training and Test set\n",
    "print(X_train.shape)\n",
    "print(X_test.shape)\n",
    "print(y_train.shape)\n",
    "print(y_test.shape)"
   ]
  },
  {
   "cell_type": "code",
   "execution_count": 4,
   "metadata": {},
   "outputs": [
    {
     "name": "stdout",
     "output_type": "stream",
     "text": [
      "(60000, 784)\n",
      "(10000, 784)\n"
     ]
    }
   ],
   "source": [
    "# convert 2d arrays into 1d\n",
    "X_train = X_train.reshape(60000, 784)     \n",
    "X_test = X_test.reshape(10000, 784)\n",
    "print(X_train.shape)\n",
    "print(X_test.shape)"
   ]
  },
  {
   "cell_type": "code",
   "execution_count": 5,
   "metadata": {},
   "outputs": [],
   "source": [
    "# 10 classes for digits 0 to 9\n",
    "classes = 10\n",
    "Y_train = np_utils.to_categorical(y_train, classes)     \n",
    "Y_test = np_utils.to_categorical(y_test, classes)"
   ]
  },
  {
   "cell_type": "code",
   "execution_count": 36,
   "metadata": {},
   "outputs": [
    {
     "name": "stdout",
     "output_type": "stream",
     "text": [
      "Train on 60000 samples, validate on 10000 samples\n",
      "Epoch 1/100\n",
      "60000/60000 [==============================] - 6s 97us/step - loss: 1.9213 - acc: 0.5490 - val_loss: 1.5730 - val_acc: 0.7416\n",
      "Epoch 2/100\n",
      "60000/60000 [==============================] - 5s 76us/step - loss: 1.3028 - acc: 0.7872 - val_loss: 1.0493 - val_acc: 0.8283\n",
      "Epoch 3/100\n",
      "60000/60000 [==============================] - 5s 77us/step - loss: 0.8908 - acc: 0.8470 - val_loss: 0.7398 - val_acc: 0.8685\n",
      "Epoch 4/100\n",
      "60000/60000 [==============================] - 5s 77us/step - loss: 0.6614 - acc: 0.8723 - val_loss: 0.5744 - val_acc: 0.8856\n",
      "Epoch 5/100\n",
      "60000/60000 [==============================] - 5s 81us/step - loss: 0.5350 - acc: 0.8865 - val_loss: 0.4806 - val_acc: 0.8982\n",
      "Epoch 6/100\n",
      "60000/60000 [==============================] - 6s 93us/step - loss: 0.4599 - acc: 0.8953 - val_loss: 0.4226 - val_acc: 0.9015\n",
      "Epoch 7/100\n",
      "60000/60000 [==============================] - 6s 93us/step - loss: 0.4108 - acc: 0.9020 - val_loss: 0.3847 - val_acc: 0.9075\n",
      "Epoch 8/100\n",
      "60000/60000 [==============================] - 5s 81us/step - loss: 0.3755 - acc: 0.9073 - val_loss: 0.3536 - val_acc: 0.9125\n",
      "Epoch 9/100\n",
      "60000/60000 [==============================] - 5s 85us/step - loss: 0.3495 - acc: 0.9112 - val_loss: 0.3360 - val_acc: 0.9145\n",
      "Epoch 10/100\n",
      "60000/60000 [==============================] - 5s 84us/step - loss: 0.3290 - acc: 0.9156 - val_loss: 0.3211 - val_acc: 0.9179\n",
      "Epoch 11/100\n",
      "60000/60000 [==============================] - 5s 84us/step - loss: 0.3111 - acc: 0.9190 - val_loss: 0.3025 - val_acc: 0.9191\n",
      "Epoch 12/100\n",
      "60000/60000 [==============================] - 5s 91us/step - loss: 0.2954 - acc: 0.9214 - val_loss: 0.2895 - val_acc: 0.9225\n",
      "Epoch 13/100\n",
      "60000/60000 [==============================] - 5s 88us/step - loss: 0.2853 - acc: 0.9235 - val_loss: 0.2828 - val_acc: 0.9268\n",
      "Epoch 14/100\n",
      "60000/60000 [==============================] - 5s 84us/step - loss: 0.2743 - acc: 0.9255 - val_loss: 0.2770 - val_acc: 0.9232\n",
      "Epoch 15/100\n",
      "60000/60000 [==============================] - 5s 83us/step - loss: 0.2649 - acc: 0.9284 - val_loss: 0.2663 - val_acc: 0.9274\n",
      "Epoch 16/100\n",
      "60000/60000 [==============================] - 5s 83us/step - loss: 0.2555 - acc: 0.9310 - val_loss: 0.2548 - val_acc: 0.9288\n",
      "Epoch 17/100\n",
      "60000/60000 [==============================] - 5s 84us/step - loss: 0.2474 - acc: 0.9326 - val_loss: 0.2550 - val_acc: 0.9312\n",
      "Epoch 18/100\n",
      "60000/60000 [==============================] - 5s 83us/step - loss: 0.2406 - acc: 0.9342 - val_loss: 0.2475 - val_acc: 0.9307\n",
      "Epoch 19/100\n",
      "60000/60000 [==============================] - 6s 93us/step - loss: 0.2343 - acc: 0.9364 - val_loss: 0.2435 - val_acc: 0.9323\n",
      "Epoch 20/100\n",
      "60000/60000 [==============================] - 5s 85us/step - loss: 0.2264 - acc: 0.9380 - val_loss: 0.2335 - val_acc: 0.9358\n",
      "Epoch 21/100\n",
      "60000/60000 [==============================] - 5s 84us/step - loss: 0.2223 - acc: 0.9399 - val_loss: 0.2307 - val_acc: 0.9380\n",
      "Epoch 22/100\n",
      "60000/60000 [==============================] - 5s 84us/step - loss: 0.2198 - acc: 0.9400 - val_loss: 0.2270 - val_acc: 0.9389\n",
      "Epoch 23/100\n",
      "60000/60000 [==============================] - 5s 83us/step - loss: 0.2139 - acc: 0.9417 - val_loss: 0.2228 - val_acc: 0.9370\n",
      "Epoch 24/100\n",
      "60000/60000 [==============================] - 5s 83us/step - loss: 0.2072 - acc: 0.9430 - val_loss: 0.2150 - val_acc: 0.9407\n",
      "Epoch 25/100\n",
      "60000/60000 [==============================] - 5s 91us/step - loss: 0.2040 - acc: 0.9442 - val_loss: 0.2148 - val_acc: 0.9418\n",
      "Epoch 26/100\n",
      "60000/60000 [==============================] - 5s 85us/step - loss: 0.1966 - acc: 0.9465 - val_loss: 0.2072 - val_acc: 0.9432\n",
      "Epoch 27/100\n",
      "60000/60000 [==============================] - 5s 89us/step - loss: 0.1932 - acc: 0.9472 - val_loss: 0.2078 - val_acc: 0.9422\n",
      "Epoch 28/100\n",
      "60000/60000 [==============================] - 6s 106us/step - loss: 0.1910 - acc: 0.9473 - val_loss: 0.2034 - val_acc: 0.9436\n",
      "Epoch 29/100\n",
      "60000/60000 [==============================] - 7s 122us/step - loss: 0.1861 - acc: 0.9491 - val_loss: 0.2003 - val_acc: 0.9431\n",
      "Epoch 30/100\n",
      "60000/60000 [==============================] - 7s 125us/step - loss: 0.1828 - acc: 0.9494 - val_loss: 0.2000 - val_acc: 0.9431\n",
      "Epoch 31/100\n",
      "60000/60000 [==============================] - 7s 115us/step - loss: 0.1816 - acc: 0.9503 - val_loss: 0.1999 - val_acc: 0.9446\n",
      "Epoch 32/100\n",
      "60000/60000 [==============================] - 8s 126us/step - loss: 0.1760 - acc: 0.9520 - val_loss: 0.1938 - val_acc: 0.9454\n",
      "Epoch 33/100\n",
      "60000/60000 [==============================] - 7s 117us/step - loss: 0.1723 - acc: 0.9529 - val_loss: 0.1930 - val_acc: 0.9441\n",
      "Epoch 34/100\n",
      "60000/60000 [==============================] - 7s 117us/step - loss: 0.1699 - acc: 0.9536 - val_loss: 0.1883 - val_acc: 0.9460\n",
      "Epoch 35/100\n",
      "60000/60000 [==============================] - 7s 115us/step - loss: 0.1671 - acc: 0.9543 - val_loss: 0.1888 - val_acc: 0.9461\n",
      "Epoch 36/100\n",
      "60000/60000 [==============================] - 7s 121us/step - loss: 0.1664 - acc: 0.9543 - val_loss: 0.1824 - val_acc: 0.9470\n",
      "Epoch 37/100\n",
      "60000/60000 [==============================] - 7s 117us/step - loss: 0.1634 - acc: 0.9553 - val_loss: 0.1836 - val_acc: 0.9469\n",
      "Epoch 38/100\n",
      "60000/60000 [==============================] - 7s 119us/step - loss: 0.1582 - acc: 0.9566 - val_loss: 0.1811 - val_acc: 0.9496\n",
      "Epoch 39/100\n",
      "60000/60000 [==============================] - 7s 120us/step - loss: 0.1554 - acc: 0.9569 - val_loss: 0.1788 - val_acc: 0.9484\n",
      "Epoch 40/100\n",
      "60000/60000 [==============================] - 7s 116us/step - loss: 0.1528 - acc: 0.9591 - val_loss: 0.1762 - val_acc: 0.9485\n",
      "Epoch 41/100\n",
      "60000/60000 [==============================] - 7s 116us/step - loss: 0.1496 - acc: 0.9590 - val_loss: 0.1743 - val_acc: 0.9501\n",
      "Epoch 42/100\n",
      "60000/60000 [==============================] - 7s 113us/step - loss: 0.1481 - acc: 0.9593 - val_loss: 0.1719 - val_acc: 0.9497\n",
      "Epoch 43/100\n",
      "60000/60000 [==============================] - 7s 120us/step - loss: 0.1469 - acc: 0.9604 - val_loss: 0.1733 - val_acc: 0.9501\n",
      "Epoch 44/100\n",
      "60000/60000 [==============================] - 7s 114us/step - loss: 0.1447 - acc: 0.9610 - val_loss: 0.1701 - val_acc: 0.9528\n",
      "Epoch 45/100\n",
      "60000/60000 [==============================] - 6s 103us/step - loss: 0.1418 - acc: 0.9614 - val_loss: 0.1715 - val_acc: 0.9495\n",
      "Epoch 46/100\n",
      "60000/60000 [==============================] - 5s 79us/step - loss: 0.1429 - acc: 0.9604 - val_loss: 0.1648 - val_acc: 0.9508\n",
      "Epoch 47/100\n",
      "60000/60000 [==============================] - 5s 81us/step - loss: 0.1395 - acc: 0.9621 - val_loss: 0.1654 - val_acc: 0.9531\n",
      "Epoch 48/100\n",
      "60000/60000 [==============================] - 5s 80us/step - loss: 0.1382 - acc: 0.9627 - val_loss: 0.1647 - val_acc: 0.9522\n",
      "Epoch 49/100\n",
      "60000/60000 [==============================] - 5s 80us/step - loss: 0.1358 - acc: 0.9626 - val_loss: 0.1614 - val_acc: 0.9524\n",
      "Epoch 50/100\n",
      "60000/60000 [==============================] - 5s 79us/step - loss: 0.1337 - acc: 0.9637 - val_loss: 0.1628 - val_acc: 0.9514\n",
      "Epoch 51/100\n",
      "60000/60000 [==============================] - 5s 81us/step - loss: 0.1297 - acc: 0.9643 - val_loss: 0.1588 - val_acc: 0.9527\n",
      "Epoch 52/100\n",
      "60000/60000 [==============================] - 5s 80us/step - loss: 0.1288 - acc: 0.9648 - val_loss: 0.1570 - val_acc: 0.9534\n",
      "Epoch 53/100\n",
      "60000/60000 [==============================] - 5s 80us/step - loss: 0.1275 - acc: 0.9657 - val_loss: 0.1558 - val_acc: 0.9544\n",
      "Epoch 54/100\n",
      "60000/60000 [==============================] - 5s 79us/step - loss: 0.1243 - acc: 0.9661 - val_loss: 0.1539 - val_acc: 0.9563\n",
      "Epoch 55/100\n",
      "60000/60000 [==============================] - 5s 81us/step - loss: 0.1254 - acc: 0.9660 - val_loss: 0.1521 - val_acc: 0.9558\n",
      "Epoch 56/100\n",
      "60000/60000 [==============================] - 5s 79us/step - loss: 0.1226 - acc: 0.9666 - val_loss: 0.1565 - val_acc: 0.9519\n",
      "Epoch 57/100\n",
      "60000/60000 [==============================] - 5s 80us/step - loss: 0.1217 - acc: 0.9666 - val_loss: 0.1520 - val_acc: 0.9547\n",
      "Epoch 58/100\n",
      "60000/60000 [==============================] - 5s 80us/step - loss: 0.1199 - acc: 0.9674 - val_loss: 0.1495 - val_acc: 0.9552\n",
      "Epoch 59/100\n",
      "60000/60000 [==============================] - 5s 79us/step - loss: 0.1200 - acc: 0.9675 - val_loss: 0.1547 - val_acc: 0.9536\n",
      "Epoch 60/100\n",
      "60000/60000 [==============================] - 5s 79us/step - loss: 0.1206 - acc: 0.9665 - val_loss: 0.1489 - val_acc: 0.9558\n",
      "Epoch 61/100\n",
      "60000/60000 [==============================] - 5s 80us/step - loss: 0.1164 - acc: 0.9680 - val_loss: 0.1496 - val_acc: 0.9546\n",
      "Epoch 62/100\n",
      "60000/60000 [==============================] - 5s 80us/step - loss: 0.1149 - acc: 0.9686 - val_loss: 0.1457 - val_acc: 0.9557\n",
      "Epoch 63/100\n",
      "60000/60000 [==============================] - 5s 79us/step - loss: 0.1147 - acc: 0.9688 - val_loss: 0.1455 - val_acc: 0.9562\n",
      "Epoch 64/100\n",
      "60000/60000 [==============================] - 5s 80us/step - loss: 0.1113 - acc: 0.9702 - val_loss: 0.1427 - val_acc: 0.9571\n",
      "Epoch 65/100\n",
      "60000/60000 [==============================] - 5s 79us/step - loss: 0.1097 - acc: 0.9701 - val_loss: 0.1436 - val_acc: 0.9568\n",
      "Epoch 66/100\n",
      "60000/60000 [==============================] - 5s 80us/step - loss: 0.1113 - acc: 0.9697 - val_loss: 0.1451 - val_acc: 0.9558\n",
      "Epoch 67/100\n",
      "60000/60000 [==============================] - 5s 80us/step - loss: 0.1106 - acc: 0.9698 - val_loss: 0.1436 - val_acc: 0.9565\n",
      "Epoch 68/100\n",
      "60000/60000 [==============================] - 5s 80us/step - loss: 0.1089 - acc: 0.9703 - val_loss: 0.1431 - val_acc: 0.9576\n",
      "Epoch 69/100\n",
      "60000/60000 [==============================] - 5s 79us/step - loss: 0.1076 - acc: 0.9706 - val_loss: 0.1421 - val_acc: 0.9570\n",
      "Epoch 70/100\n",
      "60000/60000 [==============================] - 5s 80us/step - loss: 0.1079 - acc: 0.9704 - val_loss: 0.1395 - val_acc: 0.9594\n",
      "Epoch 71/100\n",
      "60000/60000 [==============================] - 5s 79us/step - loss: 0.1070 - acc: 0.9709 - val_loss: 0.1417 - val_acc: 0.9569\n",
      "Epoch 72/100\n",
      "60000/60000 [==============================] - 5s 80us/step - loss: 0.1050 - acc: 0.9713 - val_loss: 0.1397 - val_acc: 0.9580\n",
      "Epoch 73/100\n",
      "60000/60000 [==============================] - 5s 81us/step - loss: 0.1013 - acc: 0.9728 - val_loss: 0.1354 - val_acc: 0.9584\n",
      "Epoch 74/100\n",
      "60000/60000 [==============================] - 5s 80us/step - loss: 0.0998 - acc: 0.9732 - val_loss: 0.1348 - val_acc: 0.9604\n",
      "Epoch 75/100\n",
      "60000/60000 [==============================] - 5s 80us/step - loss: 0.0990 - acc: 0.9737 - val_loss: 0.1367 - val_acc: 0.9593\n",
      "Epoch 76/100\n",
      "60000/60000 [==============================] - 5s 80us/step - loss: 0.0987 - acc: 0.9736 - val_loss: 0.1375 - val_acc: 0.9585\n",
      "Epoch 77/100\n",
      "60000/60000 [==============================] - 5s 82us/step - loss: 0.0966 - acc: 0.9738 - val_loss: 0.1334 - val_acc: 0.9600\n",
      "Epoch 78/100\n",
      "60000/60000 [==============================] - 5s 79us/step - loss: 0.0971 - acc: 0.9739 - val_loss: 0.1318 - val_acc: 0.9606\n",
      "Epoch 79/100\n",
      "60000/60000 [==============================] - 5s 81us/step - loss: 0.0963 - acc: 0.9738 - val_loss: 0.1330 - val_acc: 0.9598\n",
      "Epoch 80/100\n",
      "60000/60000 [==============================] - 5s 80us/step - loss: 0.0943 - acc: 0.9747 - val_loss: 0.1311 - val_acc: 0.9599\n",
      "Epoch 81/100\n",
      "60000/60000 [==============================] - 5s 80us/step - loss: 0.0956 - acc: 0.9735 - val_loss: 0.1342 - val_acc: 0.9600\n",
      "Epoch 82/100\n",
      "60000/60000 [==============================] - 5s 80us/step - loss: 0.0944 - acc: 0.9743 - val_loss: 0.1337 - val_acc: 0.9593\n",
      "Epoch 83/100\n",
      "60000/60000 [==============================] - 5s 81us/step - loss: 0.0938 - acc: 0.9745 - val_loss: 0.1352 - val_acc: 0.9590\n",
      "Epoch 84/100\n",
      "60000/60000 [==============================] - 5s 80us/step - loss: 0.0952 - acc: 0.9734 - val_loss: 0.1303 - val_acc: 0.9604\n",
      "Epoch 85/100\n",
      "60000/60000 [==============================] - 5s 79us/step - loss: 0.0906 - acc: 0.9760 - val_loss: 0.1317 - val_acc: 0.9607\n",
      "Epoch 86/100\n",
      "60000/60000 [==============================] - 5s 79us/step - loss: 0.0910 - acc: 0.9753 - val_loss: 0.1263 - val_acc: 0.9614\n",
      "Epoch 87/100\n",
      "60000/60000 [==============================] - 5s 79us/step - loss: 0.0895 - acc: 0.9756 - val_loss: 0.1293 - val_acc: 0.9610\n",
      "Epoch 88/100\n",
      "60000/60000 [==============================] - 5s 79us/step - loss: 0.0881 - acc: 0.9767 - val_loss: 0.1258 - val_acc: 0.9611\n",
      "Epoch 89/100\n",
      "60000/60000 [==============================] - 5s 79us/step - loss: 0.0878 - acc: 0.9766 - val_loss: 0.1303 - val_acc: 0.9612\n",
      "Epoch 90/100\n",
      "60000/60000 [==============================] - 5s 79us/step - loss: 0.0877 - acc: 0.9762 - val_loss: 0.1263 - val_acc: 0.9619\n",
      "Epoch 91/100\n",
      "60000/60000 [==============================] - 5s 78us/step - loss: 0.0863 - acc: 0.9774 - val_loss: 0.1272 - val_acc: 0.9598\n",
      "Epoch 92/100\n",
      "60000/60000 [==============================] - 5s 79us/step - loss: 0.0885 - acc: 0.9760 - val_loss: 0.1318 - val_acc: 0.9595\n",
      "Epoch 93/100\n",
      "60000/60000 [==============================] - 5s 78us/step - loss: 0.0849 - acc: 0.9767 - val_loss: 0.1226 - val_acc: 0.9638\n",
      "Epoch 94/100\n",
      "60000/60000 [==============================] - 5s 80us/step - loss: 0.0852 - acc: 0.9770 - val_loss: 0.1235 - val_acc: 0.9625\n",
      "Epoch 95/100\n",
      "60000/60000 [==============================] - 5s 78us/step - loss: 0.0839 - acc: 0.9778 - val_loss: 0.1276 - val_acc: 0.9632\n",
      "Epoch 96/100\n",
      "60000/60000 [==============================] - 5s 79us/step - loss: 0.0822 - acc: 0.9782 - val_loss: 0.1258 - val_acc: 0.9618\n",
      "Epoch 97/100\n",
      "60000/60000 [==============================] - 5s 80us/step - loss: 0.0842 - acc: 0.9774 - val_loss: 0.1300 - val_acc: 0.9598\n",
      "Epoch 98/100\n",
      "60000/60000 [==============================] - 5s 87us/step - loss: 0.0808 - acc: 0.9787 - val_loss: 0.1275 - val_acc: 0.9614\n",
      "10000/10000 [==============================] - 1s 57us/step\n",
      "Test accuracy: 0.9614\n"
     ]
    }
   ],
   "source": [
    "# Import early stopping from keras callbacks\n",
    "from keras.callbacks import EarlyStopping\n",
    "# Instantiate an early stopping callback\n",
    "early_stopping = EarlyStopping(monitor='val_loss', patience=5)\n",
    "\n",
    "epochs = 100\n",
    "batch_size = 100\n",
    "\n",
    "model = Sequential()     \n",
    "model.add(Dense(100, input_shape=(784, ), activation='sigmoid'))     \n",
    "\n",
    "# Hidden layers\n",
    "model.add(Dense(100, activation='sigmoid'))\n",
    "\n",
    "# Output Layers\n",
    "model.add(Dense(10, activation='softmax')) \n",
    "\n",
    "model.compile(loss='categorical_crossentropy', metrics=['accuracy'], optimizer='sgd')\n",
    "\n",
    "history = model.fit(X_train, Y_train, batch_size=batch_size, validation_data=(X_test, Y_test), epochs=epochs, verbose=1, callbacks = [early_stopping])\n",
    "\n",
    "score = model.evaluate(X_test, Y_test, verbose=1)\n",
    "print('Test accuracy:', score[1]) "
   ]
  },
  {
   "cell_type": "markdown",
   "metadata": {},
   "source": [
    "The model achieved a 96.2% accuracy in classifying the handwritten digits"
   ]
  },
  {
   "cell_type": "code",
   "execution_count": 40,
   "metadata": {},
   "outputs": [
    {
     "data": {
      "image/png": "[encoded data removed]",
      "text/plain": [
       "<Figure size 432x288 with 1 Axes>"
      ]
     },
     "metadata": {
      "needs_background": "light"
     },
     "output_type": "display_data"
    }
   ],
   "source": [
    "# Plot train vs test accuracy per epoch\n",
    "plt.figure()\n",
    "\n",
    "plt.plot(history.history['acc'])\n",
    "plt.plot(history.history['val_acc'])\n",
    "\n",
    "plt.title('Model accuracy')\n",
    "plt.ylabel('Accuracy')\n",
    "plt.xlabel('Epoch')\n",
    "plt.legend(['Train', 'Test'])\n",
    "plt.show()"
   ]
  },
  {
   "cell_type": "markdown",
   "metadata": {},
   "source": [
    "The model accuracy increase sharply within 20 epoches to 90%."
   ]
  },
  {
   "cell_type": "code",
   "execution_count": 41,
   "metadata": {},
   "outputs": [
    {
     "name": "stdout",
     "output_type": "stream",
     "text": [
      "_________________________________________________________________\n",
      "Layer (type)                 Output Shape              Param #   \n",
      "=================================================================\n",
      "dense_4 (Dense)              (None, 100)               78500     \n",
      "_________________________________________________________________\n",
      "dense_5 (Dense)              (None, 100)               10100     \n",
      "_________________________________________________________________\n",
      "dense_6 (Dense)              (None, 10)                1010      \n",
      "=================================================================\n",
      "Total params: 89,610\n",
      "Trainable params: 89,610\n",
      "Non-trainable params: 0\n",
      "_________________________________________________________________\n"
     ]
    }
   ],
   "source": [
    "model.summary()"
   ]
  },
  {
   "cell_type": "code",
   "execution_count": 7,
   "metadata": {},
   "outputs": [],
   "source": [
    "# model.save('mnist.h5')"
   ]
  },
  {
   "cell_type": "code",
   "execution_count": 8,
   "metadata": {},
   "outputs": [
    {
     "name": "stdout",
     "output_type": "stream",
     "text": [
      "WARNING:tensorflow:From /anaconda3/envs/data_science/lib/python3.7/site-packages/keras/backend/tensorflow_backend.py:517: The name tf.placeholder is deprecated. Please use tf.compat.v1.placeholder instead.\n",
      "\n",
      "WARNING:tensorflow:From /anaconda3/envs/data_science/lib/python3.7/site-packages/keras/backend/tensorflow_backend.py:4138: The name tf.random_uniform is deprecated. Please use tf.random.uniform instead.\n",
      "\n",
      "WARNING:tensorflow:From /anaconda3/envs/data_science/lib/python3.7/site-packages/keras/backend/tensorflow_backend.py:174: The name tf.get_default_session is deprecated. Please use tf.compat.v1.get_default_session instead.\n",
      "\n",
      "WARNING:tensorflow:From /anaconda3/envs/data_science/lib/python3.7/site-packages/keras/backend/tensorflow_backend.py:181: The name tf.ConfigProto is deprecated. Please use tf.compat.v1.ConfigProto instead.\n",
      "\n",
      "WARNING:tensorflow:From /anaconda3/envs/data_science/lib/python3.7/site-packages/keras/backend/tensorflow_backend.py:186: The name tf.Session is deprecated. Please use tf.compat.v1.Session instead.\n",
      "\n",
      "WARNING:tensorflow:From /anaconda3/envs/data_science/lib/python3.7/site-packages/keras/backend/tensorflow_backend.py:190: The name tf.global_variables is deprecated. Please use tf.compat.v1.global_variables instead.\n",
      "\n",
      "WARNING:tensorflow:From /anaconda3/envs/data_science/lib/python3.7/site-packages/keras/backend/tensorflow_backend.py:199: The name tf.is_variable_initialized is deprecated. Please use tf.compat.v1.is_variable_initialized instead.\n",
      "\n",
      "WARNING:tensorflow:From /anaconda3/envs/data_science/lib/python3.7/site-packages/keras/backend/tensorflow_backend.py:206: The name tf.variables_initializer is deprecated. Please use tf.compat.v1.variables_initializer instead.\n",
      "\n",
      "WARNING:tensorflow:From /anaconda3/envs/data_science/lib/python3.7/site-packages/keras/optimizers.py:790: The name tf.train.Optimizer is deprecated. Please use tf.compat.v1.train.Optimizer instead.\n",
      "\n",
      "WARNING:tensorflow:From /anaconda3/envs/data_science/lib/python3.7/site-packages/keras/backend/tensorflow_backend.py:3295: The name tf.log is deprecated. Please use tf.math.log instead.\n",
      "\n",
      "WARNING:tensorflow:From /anaconda3/envs/data_science/lib/python3.7/site-packages/tensorflow_core/python/ops/math_grad.py:1424: where (from tensorflow.python.ops.array_ops) is deprecated and will be removed in a future version.\n",
      "Instructions for updating:\n",
      "Use tf.where in 2.0, which has the same broadcast rule as np.where\n",
      "WARNING:tensorflow:From /anaconda3/envs/data_science/lib/python3.7/site-packages/keras/backend/tensorflow_backend.py:986: The name tf.assign_add is deprecated. Please use tf.compat.v1.assign_add instead.\n",
      "\n",
      "WARNING:tensorflow:From /anaconda3/envs/data_science/lib/python3.7/site-packages/keras/backend/tensorflow_backend.py:973: The name tf.assign is deprecated. Please use tf.compat.v1.assign instead.\n",
      "\n"
     ]
    }
   ],
   "source": [
    "from keras.models import load_model\n",
    "\n",
    "my_model = load_model('mnist.h5')"
   ]
  },
  {
   "cell_type": "code",
   "execution_count": 67,
   "metadata": {},
   "outputs": [],
   "source": [
    "from sklearn.metrics import classification_report"
   ]
  },
  {
   "cell_type": "code",
   "execution_count": 65,
   "metadata": {},
   "outputs": [],
   "source": [
    "def evaluateClassifier(model, X_test, y_test):\n",
    "    \n",
    "    #round up the labels\n",
    "    y_test_rounded = np.argmax(y_test, axis=1)\n",
    "    \n",
    "    y_pred = model.predict_classes(X_test)\n",
    "    \n",
    "    report = classification_report(y_test_rounded, y_pred)\n",
    "    print(report)\n",
    "\n",
    "    return report"
   ]
  },
  {
   "cell_type": "code",
   "execution_count": 66,
   "metadata": {},
   "outputs": [
    {
     "name": "stdout",
     "output_type": "stream",
     "text": [
      "              precision    recall  f1-score   support\n",
      "\n",
      "           0       0.97      0.99      0.98       980\n",
      "           1       0.98      0.99      0.98      1135\n",
      "           2       0.97      0.95      0.96      1032\n",
      "           3       0.95      0.96      0.95      1010\n",
      "           4       0.96      0.96      0.96       982\n",
      "           5       0.95      0.96      0.95       892\n",
      "           6       0.96      0.97      0.97       958\n",
      "           7       0.95      0.95      0.95      1028\n",
      "           8       0.96      0.95      0.95       974\n",
      "           9       0.96      0.94      0.95      1009\n",
      "\n",
      "    accuracy                           0.96     10000\n",
      "   macro avg       0.96      0.96      0.96     10000\n",
      "weighted avg       0.96      0.96      0.96     10000\n",
      "\n"
     ]
    }
   ],
   "source": [
    "report = evaluateClassifier(my_model, X_test, Y_test)"
   ]
  },
  {
   "cell_type": "markdown",
   "metadata": {},
   "source": [
    "#### Results and Analysis:\n",
    "The CNN has achieved a 96.2% test accuracy."
   ]
  },
  {
   "cell_type": "markdown",
   "metadata": {},
   "source": [
    "Based on each precision score, the model's prediction would be realised truely for \n",
    "+ the digit `0`, 97% of the time.\n",
    "+ the digit `1`, 98% of the time.\n",
    "+ the digit `2`, 97% of the time.\n",
    "+ the digit `3`, 95% of the time.\n",
    "+ the digit `4`, 96% of the time.\n",
    "+ the digit `5`, 95% of the time.\n",
    "+ the digit `6`, 96% of the time.\n",
    "+ the digit `7`, 95% of the time.\n",
    "+ the digit `8`, 96% of the time.\n",
    "+ the digit `9`, 96% of the time.\n",
    "\n",
    "Based on each recall score, the model's prediction for\n",
    "+ the digit `0` has about 99% being correct.\n",
    "+ the digit `1` has about 99% being correct.\n",
    "+ the digit `2` has about 95% being correct.\n",
    "+ the digit `3` has about 96% being correct.\n",
    "+ the digit `4` has about 96% being correct.\n",
    "+ the digit `5` has about 96% being correct.\n",
    "+ the digit `6` has about 97% being correct.\n",
    "+ the digit `7` has about 95% being correct.\n",
    "+ the digit `8` has about 95% being correct.\n",
    "+ the digit `9` has about 94% being correct.\n",
    "\n",
    "Based on each f1 score, the weighted average of the precision and recall for\n",
    "+ the digit `0` is 98%\n",
    "+ the digit `1` is 98%\n",
    "+ the digit `2` is 96%\n",
    "+ the digit `3` is 95%\n",
    "+ the digit `4` is 96%\n",
    "+ the digit `5` is 95%\n",
    "+ the digit `6` is 97%\n",
    "+ the digit `7` is 95%\n",
    "+ the digit `8` is 95%\n",
    "+ the digit `9` is 95%"
   ]
  },
  {
   "cell_type": "markdown",
   "metadata": {},
   "source": [
    "#### Future Works:\n",
    "+ A form would have more than just digit, so more can be done in building a CNN that can recognize characters too\n",
    "+ Position of the character and digits is also important in identifying what fields is that entry associated to. The model would need to identify and sieve out the form fields associated to the handwritten values.\n",
    "+ This would increase the complexity of the model and perhaps separate specialised models can be built to handle the task better."
   ]
  }
 ],
 "metadata": {
  "kernelspec": {
   "display_name": "Python 3",
   "language": "python",
   "name": "python3"
  },
  "language_info": {
   "codemirror_mode": {
    "name": "ipython",
    "version": 3
   },
   "file_extension": ".py",
   "mimetype": "text/x-python",
   "name": "python",
   "nbconvert_exporter": "python",
   "pygments_lexer": "ipython3",
   "version": "3.7.5"
  }
 },
 "nbformat": 4,
 "nbformat_minor": 2
}
